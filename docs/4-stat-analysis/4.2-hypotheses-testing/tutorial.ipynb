{
    "cells": [
        {
            "cell_type": "markdown",
            "metadata": {},
            "source": [
                "# 4.2 Hypothesis Testing Tutorial\n",
                "\n",
                "This notebook covers key concepts in hypothesis testing including:\n",
                "- Hypothesis Formulation\n",
                "- Statistical Tests\n",
                "- Experimental Design\n",
                "- A/B Testing\n",
                "- Results Analysis"
            ]
        },
        {
            "cell_type": "code",
            "execution_count": null,
            "metadata": {},
            "outputs": [],
            "source": [
                "# Import required libraries\n",
                "import numpy as np\n",
                "import pandas as pd\n",
                "import matplotlib.pyplot as plt\n",
                "import seaborn as sns\n",
                "from scipy import stats\n",
                "\n",
                "# Set random seed for reproducibility\n",
                "np.random.seed(42)"
            ]
        },
        {
            "cell_type": "markdown",
            "metadata": {},
            "source": [
                "## 1. Hypothesis Formulation\n",
                "\n",
                "Let's demonstrate how to formulate and test hypotheses using a real-world example of comparing two marketing strategies."
            ]
        },
        {
            "cell_type": "code",
            "execution_count": null,
            "metadata": {},
            "outputs": [],
            "source": [
                "# Generate sample data for two marketing strategies\n",
                "strategy_a = np.random.normal(\n",
                "    loc=100, scale=15, size=50\n",
                ")  # Conversion rate for strategy A\n",
                "strategy_b = np.random.normal(\n",
                "    loc=110, scale=15, size=50\n",
                ")  # Conversion rate for strategy B\n",
                "\n",
                "# Visualize the data\n",
                "plt.figure(figsize=(10, 6))\n",
                "sns.boxplot(data=[strategy_a, strategy_b], labels=[\"Strategy A\", \"Strategy B\"])\n",
                "plt.title(\"Conversion Rates by Marketing Strategy\")\n",
                "plt.ylabel(\"Conversion Rate\")\n",
                "plt.show()\n",
                "\n",
                "# Print summary statistics\n",
                "print(\n",
                "    \"Strategy A - Mean: {:.2f}, SD: {:.2f}\".format(\n",
                "        np.mean(strategy_a), np.std(strategy_a)\n",
                "    )\n",
                ")\n",
                "print(\n",
                "    \"Strategy B - Mean: {:.2f}, SD: {:.2f}\".format(\n",
                "        np.mean(strategy_b), np.std(strategy_b)\n",
                "    )\n",
                ")"
            ]
        },
        {
            "cell_type": "markdown",
            "metadata": {},
            "source": [
                "## 2. Statistical Tests\n",
                "\n",
                "Let's perform different types of statistical tests and interpret their results."
            ]
        },
        {
            "cell_type": "code",
            "execution_count": null,
            "metadata": {},
            "outputs": [],
            "source": [
                "# Perform independent t-test\n",
                "t_stat, p_value = stats.ttest_ind(strategy_a, strategy_b)\n",
                "print(\"Independent t-test:\")\n",
                "print(f\"t-statistic: {t_stat:.4f}\")\n",
                "print(f\"p-value: {p_value:.4f}\")\n",
                "\n",
                "# Perform Mann-Whitney U test (non-parametric alternative)\n",
                "u_stat, p_value_mw = stats.mannwhitneyu(strategy_a, strategy_b, alternative=\"two-sided\")\n",
                "print(\"\\nMann-Whitney U test:\")\n",
                "print(f\"U-statistic: {u_stat:.4f}\")\n",
                "print(f\"p-value: {p_value_mw:.4f}\")"
            ]
        },
        {
            "cell_type": "markdown",
            "metadata": {},
            "source": [
                "## 3. A/B Testing\n",
                "\n",
                "Let's simulate an A/B test and calculate important metrics."
            ]
        },
        {
            "cell_type": "code",
            "execution_count": null,
            "metadata": {},
            "outputs": [],
            "source": [
                "def calculate_effect_size(group1, group2):\n",
                "    \"\"\"Calculate Cohen's d effect size\"\"\"\n",
                "    n1, n2 = len(group1), len(group2)\n",
                "    var1, var2 = np.var(group1, ddof=1), np.var(group2, ddof=1)\n",
                "    pooled_se = np.sqrt(((n1 - 1) * var1 + (n2 - 1) * var2) / (n1 + n2 - 2))\n",
                "    return (np.mean(group2) - np.mean(group1)) / pooled_se\n",
                "\n",
                "\n",
                "# Calculate effect size\n",
                "effect_size = calculate_effect_size(strategy_a, strategy_b)\n",
                "\n",
                "# Calculate relative improvement\n",
                "relative_improvement = (\n",
                "    (np.mean(strategy_b) - np.mean(strategy_a)) / np.mean(strategy_a) * 100\n",
                ")\n",
                "\n",
                "print(f\"Effect Size (Cohen's d): {effect_size:.4f}\")\n",
                "print(f\"Relative Improvement: {relative_improvement:.2f}%\")\n",
                "\n",
                "# Visualize the distributions\n",
                "plt.figure(figsize=(10, 6))\n",
                "sns.kdeplot(data=strategy_a, label=\"Strategy A\")\n",
                "sns.kdeplot(data=strategy_b, label=\"Strategy B\")\n",
                "plt.title(\"Distribution of Conversion Rates\")\n",
                "plt.xlabel(\"Conversion Rate\")\n",
                "plt.ylabel(\"Density\")\n",
                "plt.legend()\n",
                "plt.show()"
            ]
        },
        {
            "cell_type": "markdown",
            "metadata": {},
            "source": [
                "## 4. Power Analysis\n",
                "\n",
                "Let's perform a power analysis to determine the required sample size for future tests."
            ]
        },
        {
            "cell_type": "code",
            "execution_count": null,
            "metadata": {},
            "outputs": [],
            "source": [
                "from scipy.stats import norm\n",
                "\n",
                "\n",
                "def calculate_power(n, effect_size, alpha=0.05):\n",
                "    \"\"\"Calculate statistical power for a given sample size and effect size\"\"\"\n",
                "    critical_value = norm.ppf(1 - alpha / 2)\n",
                "    beta = norm.cdf(critical_value - effect_size * np.sqrt(n / 2)) - norm.cdf(\n",
                "        -critical_value - effect_size * np.sqrt(n / 2)\n",
                "    )\n",
                "    return 1 - beta\n",
                "\n",
                "\n",
                "# Calculate power for different sample sizes\n",
                "sample_sizes = np.arange(10, 200, 10)\n",
                "powers = [calculate_power(n, effect_size) for n in sample_sizes]\n",
                "\n",
                "# Plot power analysis\n",
                "plt.figure(figsize=(10, 6))\n",
                "plt.plot(sample_sizes, powers)\n",
                "plt.axhline(y=0.8, color=\"r\", linestyle=\"--\", label=\"0.8 Power Threshold\")\n",
                "plt.title(\"Power Analysis\")\n",
                "plt.xlabel(\"Sample Size (per group)\")\n",
                "plt.ylabel(\"Statistical Power\")\n",
                "plt.legend()\n",
                "plt.grid(True)\n",
                "plt.show()"
            ]
        },
        {
            "cell_type": "markdown",
            "metadata": {},
            "source": [
                "## Practice Exercises\n",
                "\n",
                "1. Conduct a one-way ANOVA test comparing three or more groups.\n",
                "\n",
                "2. Perform a chi-square test of independence on categorical data.\n",
                "\n",
                "3. Calculate and interpret confidence intervals for the difference between two means.\n",
                "\n",
                "4. Design and analyze your own A/B test scenario with different metrics and success criteria.\n",
                "\n",
                "5. Investigate how different effect sizes impact required sample sizes in power analysis."
            ]
        }
    ],
    "metadata": {
        "kernelspec": {
            "display_name": "Python 3",
            "language": "python",
            "name": "python3"
        },
        "language_info": {
            "codemirror_mode": {
                "name": "ipython",
                "version": 3
            },
            "file_extension": ".py",
            "mimetype": "text/x-python",
            "name": "python",
            "nbconvert_exporter": "python",
            "pygments_lexer": "ipython3",
            "version": "3.8.0"
        }
    },
    "nbformat": 4,
    "nbformat_minor": 4
}
