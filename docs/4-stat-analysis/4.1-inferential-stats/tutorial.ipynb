{
 "cells": [
  {
   "cell_type": "markdown",
   "metadata": {},
   "source": [
    "# 4.1 Inferential Statistics Tutorial\n",
    "\n",
    "This notebook covers key concepts in inferential statistics including:\n",
    "- Population vs Sample\n",
    "- Parameters vs Statistics\n",
    "- Sampling Distributions\n",
    "- Confidence Intervals\n",
    "- P-values"
   ]
  },
  {
   "cell_type": "code",
   "execution_count": null,
   "metadata": {},
   "source": [
    "# Import required libraries\n",
    "import numpy as np\n",
    "import pandas as pd\n",
    "import matplotlib.pyplot as plt\n",
    "import seaborn as sns\n",
    "from scipy import stats\n",
    "\n",
    "# Set random seed for reproducibility\n",
    "np.random.seed(42)"
   ]
  },
  {
   "cell_type": "markdown",
   "metadata": {},
   "source": [
    "## 1. Population vs Sample\n",
    "\n",
    "Let's demonstrate sampling from a population and visualize the relationship between population parameters and sample statistics."
   ]
  },
  {
   "cell_type": "code",
   "execution_count": null,
   "metadata": {},
   "source": [
    "# Create a population\n",
    "population = np.random.normal(loc=100, scale=15, size=10000)\n",
    "\n",
    "# Take a random sample\n",
    "sample = np.random.choice(population, size=100, replace=False)\n",
    "\n",
    "# Plot population and sample distributions\n",
    "fig, (ax1, ax2) = plt.subplots(1, 2, figsize=(15, 5))\n",
    "\n",
    "sns.histplot(population, ax=ax1, bins=50)\n",
    "ax1.axvline(np.mean(population), color='red', linestyle='--', label=f'Population Mean = {np.mean(population):.2f}')\n",
    "ax1.set_title('Population Distribution')\n",
    "ax1.legend()\n",
    "\n",
    "sns.histplot(sample, ax=ax2, bins=20)\n",
    "ax2.axvline(np.mean(sample), color='red', linestyle='--', label=f'Sample Mean = {np.mean(sample):.2f}')\n",
    "ax2.set_title('Sample Distribution')\n",
    "ax2.legend()\n",
    "\n",
    "plt.tight_layout()\n",
    "plt.show()"
   ]
  },
  {
   "cell_type": "markdown",
   "metadata": {},
   "source": [
    "## 2. Sampling Distribution\n",
    "\n",
    "Let's demonstrate the Central Limit Theorem by creating a sampling distribution of means."
   ]
  },
  {
   "cell_type": "code",
   "execution_count": null,
   "metadata": {},
   "source": [
    "# Take multiple samples and calculate their means\n",
    "sample_means = [np.mean(np.random.choice(population, size=100)) for _ in range(1000)]\n",
    "\n",
    "# Plot the sampling distribution of means\n",
    "plt.figure(figsize=(10, 6))\n",
    "sns.histplot(sample_means, bins=30)\n",
    "plt.axvline(np.mean(population), color='red', linestyle='--', label='Population Mean')\n",
    "plt.title('Sampling Distribution of Means')\n",
    "plt.legend()\n",
    "plt.show()\n",
    "\n",
    "print(f\"Standard Error of Mean: {np.std(sample_means):.2f}\")\n",
    "print(f\"Theoretical SE (σ/√n): {np.std(population)/np.sqrt(100):.2f}\")"
   ]
  },
  {
   "cell_type": "markdown",
   "metadata": {},
   "source": [
    "## 3. Confidence Intervals\n",
    "\n",
    "Let's calculate and visualize confidence intervals for the mean."
   ]
  },
  {
   "cell_type": "code",
   "execution_count": null,
   "metadata": {},
   "source": [
    "# Function to calculate confidence interval\n",
    "def calculate_ci(data, confidence=0.95):\n",
    "    n = len(data)\n",
    "    mean = np.mean(data)\n",
    "    se = stats.sem(data)\n",
    "    ci = stats.t.interval(confidence, n-1, mean, se)\n",
    "    return ci\n",
    "\n",
    "# Calculate 95% CI for our sample\n",
    "ci = calculate_ci(sample)\n",
    "\n",
    "# Visualize the confidence interval\n",
    "plt.figure(figsize=(10, 6))\n",
    "sns.histplot(sample, bins=20)\n",
    "plt.axvline(np.mean(sample), color='red', linestyle='--', label='Sample Mean')\n",
    "plt.axvline(ci[0], color='green', linestyle=':', label='95% CI')\n",
    "plt.axvline(ci[1], color='green', linestyle=':')\n",
    "plt.title('Sample Distribution with 95% Confidence Interval')\n",
    "plt.legend()\n",
    "plt.show()\n",
    "\n",
    "print(f\"95% Confidence Interval: ({ci[0]:.2f}, {ci[1]:.2f})\")"
   ]
  },
  {
   "cell_type": "markdown",
   "metadata": {},
   "source": [
    "## 4. P-values\n",
    "\n",
    "Let's demonstrate p-value calculation using a one-sample t-test."
   ]
  },
  {
   "cell_type": "code",
   "execution_count": null,
   "metadata": {},
   "source": [
    "# Perform one-sample t-test\n",
    "hypothesized_mean = 105\n",
    "t_stat, p_value = stats.ttest_1samp(sample, hypothesized_mean)\n",
    "\n",
    "# Visualize the test\n",
    "plt.figure(figsize=(10, 6))\n",
    "sns.histplot(sample, bins=20, stat='density')\n",
    "plt.axvline(hypothesized_mean, color='red', linestyle='--', label='Hypothesized Mean')\n",
    "plt.axvline(np.mean(sample), color='blue', linestyle='--', label='Sample Mean')\n",
    "plt.title('Sample Distribution with Hypothesized Mean')\n",
    "plt.legend()\n",
    "plt.show()\n",
    "\n",
    "print(f\"t-statistic: {t_stat:.2f}\")\n",
    "print(f\"p-value: {p_value:.4f}\")"
   ]
  },
  {
   "cell_type": "markdown",
   "metadata": {},
   "source": [
    "## Practice Exercises\n",
    "\n",
    "1. Create your own population with a different distribution (e.g., uniform or exponential) and explore sampling properties.\n",
    "\n",
    "2. Investigate how sample size affects:\n",
    "   - The width of confidence intervals\n",
    "   - The shape of the sampling distribution\n",
    "   - The power of hypothesis tests\n",
    "\n",
    "3. Calculate and compare confidence intervals at different confidence levels (90%, 95%, 99%).\n",
    "\n",
    "4. Perform two-sample hypothesis tests comparing means of different groups."
   ]
  }
 ],
 "metadata": {
  "kernelspec": {
   "display_name": "Python 3",
   "language": "python",
   "name": "python3"
  },
  "language_info": {
   "codemirror_mode": {
    "name": "ipython",
    "version": 3
   },
   "file_extension": ".py",
   "mimetype": "text/x-python",
   "name": "python",
   "nbconvert_exporter": "python",
   "pygments_lexer": "ipython3",
   "version": "3.8.0"
  }
 },
 "nbformat": 4,
 "nbformat_minor": 4
}
