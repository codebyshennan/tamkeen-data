{
    "cells": [
        {
            "cell_type": "markdown",
            "metadata": {},
            "source": [
                "# Simple Data Visualization Examples\n",
                "\n",
                "This notebook shows basic examples of data visualization that anyone can understand and try."
            ]
        },
        {
            "cell_type": "code",
            "execution_count": null,
            "metadata": {},
            "source": [
                "# Import the libraries we need\n",
                "import matplotlib.pyplot as plt\n",
                "import numpy as np\n",
                "\n",
                "# Make our charts look nice\n",
                "plt.style.use('seaborn')"
            ]
        },
        {
            "cell_type": "markdown",
            "metadata": {},
            "source": [
                "## 1. Line Chart: Daily Temperature\n",
                "\n",
                "Let's create a simple line chart showing temperature changes over a week."
            ]
        },
        {
            "cell_type": "code",
            "execution_count": null,
            "metadata": {},
            "source": [
                "# Our data\n",
                "days = ['Monday', 'Tuesday', 'Wednesday', 'Thursday', 'Friday']\n",
                "temperatures = [75, 72, 78, 71, 76]\n",
                "\n",
                "# Create the line chart\n",
                "plt.figure(figsize=(10, 6))  # Make the chart a bit bigger\n",
                "plt.plot(days, temperatures, marker='o')  # Add markers at each point\n",
                "\n",
                "# Add labels and title\n",
                "plt.title('Daily Temperature', fontsize=14)\n",
                "plt.xlabel('Day of Week')\n",
                "plt.ylabel('Temperature (F)')\n",
                "\n",
                "# Rotate x-axis labels for better readability\n",
                "plt.xticks(rotation=45)\n",
                "\n",
                "# Add grid lines\n",
                "plt.grid(True, linestyle='--', alpha=0.7)\n",
                "\n",
                "plt.tight_layout()  # Adjust spacing\n",
                "plt.show()"
            ]
        },
        {
            "cell_type": "markdown",
            "metadata": {},
            "source": [
                "## 2. Bar Chart: Fruit Sales\n",
                "\n",
                "Now let's make a bar chart comparing fruit sales."
            ]
        },
        {
            "cell_type": "code",
            "execution_count": null,
            "metadata": {},
            "source": [
                "# Our data\n",
                "fruits = ['Apples', 'Bananas', 'Oranges', 'Grapes']\n",
                "sales = [45, 62, 38, 50]\n",
                "\n",
                "# Create bar chart\n",
                "plt.figure(figsize=(10, 6))\n",
                "bars = plt.bar(fruits, sales)\n",
                "\n",
                "# Add colors\n",
                "colors = ['#ff9999', '#ffcc99', '#ff9933', '#9933ff']\n",
                "for bar, color in zip(bars, colors):\n",
                "    bar.set_color(color)\n",
                "\n",
                "# Add value labels on top of each bar\n",
                "for bar in bars:\n",
                "    height = bar.get_height()\n",
                "    plt.text(bar.get_x() + bar.get_width()/2., height,\n",
                "             f'{int(height)}',\n",
                "             ha='center', va='bottom')\n",
                "\n",
                "# Customize the chart\n",
                "plt.title('Fruit Sales', fontsize=14)\n",
                "plt.xlabel('Fruit Type')\n",
                "plt.ylabel('Number Sold')\n",
                "\n",
                "plt.show()"
            ]
        },
        {
            "cell_type": "markdown",
            "metadata": {},
            "source": [
                "## 3. Pie Chart: Daily Activities\n",
                "\n",
                "Let's see how someone spends their day using a pie chart."
            ]
        },
        {
            "cell_type": "code",
            "execution_count": null,
            "metadata": {},
            "source": [
                "# Our data\n",
                "activities = ['Sleep', 'Work', 'Free Time', 'Other']\n",
                "hours = [8, 8, 5, 3]\n",
                "\n",
                "# Create pie chart\n",
                "plt.figure(figsize=(10, 8))\n",
                "plt.pie(hours, labels=activities, autopct='%1.1f%%',\n",
                "        colors=['lightblue', 'lightgreen', 'pink', 'orange'])\n",
                "\n",
                "# Add title\n",
                "plt.title('How I Spend My Day', fontsize=14)\n",
                "\n",
                "# Add legend\n",
                "plt.legend(activities, title=\"Activities\", loc=\"center left\", bbox_to_anchor=(1, 0, 0.5, 1))\n",
                "\n",
                "plt.show()"
            ]
        },
        {
            "cell_type": "markdown",
            "metadata": {},
            "source": [
                "## 4. Scatter Plot: Height vs Weight\n",
                "\n",
                "Let's create a scatter plot to show the relationship between height and weight."
            ]
        },
        {
            "cell_type": "code",
            "execution_count": null,
            "metadata": {},
            "source": [
                "# Generate some sample data\n",
                "np.random.seed(42)  # For reproducibility\n",
                "heights = np.random.normal(170, 10, 50)  # 50 heights around 170cm\n",
                "weights = heights * 0.4 + np.random.normal(50, 5, 50)  # Weights loosely based on heights\n",
                "\n",
                "# Create scatter plot\n",
                "plt.figure(figsize=(10, 6))\n",
                "plt.scatter(heights, weights, alpha=0.6, c='purple')\n",
                "\n",
                "# Customize the chart\n",
                "plt.title('Height vs Weight', fontsize=14)\n",
                "plt.xlabel('Height (cm)')\n",
                "plt.ylabel('Weight (kg)')\n",
                "\n",
                "# Add grid\n",
                "plt.grid(True, linestyle='--', alpha=0.7)\n",
                "\n",
                "plt.show()"
            ]
        },
        {
            "cell_type": "markdown",
            "metadata": {},
            "source": [
                "## 5. Multiple Plots: Dashboard Style\n",
                "\n",
                "Let's combine multiple plots into a single figure."
            ]
        },
        {
            "cell_type": "code",
            "execution_count": null,
            "metadata": {},
            "source": [
                "# Create a figure with subplots\n",
                "fig, ((ax1, ax2), (ax3, ax4)) = plt.subplots(2, 2, figsize=(15, 12))\n",
                "\n",
                "# 1. Line plot\n",
                "ax1.plot(days, temperatures, marker='o', color='blue')\n",
                "ax1.set_title('Temperature Over Week')\n",
                "ax1.set_xticklabels(days, rotation=45)\n",
                "\n",
                "# 2. Bar plot\n",
                "ax2.bar(fruits, sales, color=colors)\n",
                "ax2.set_title('Fruit Sales')\n",
                "\n",
                "# 3. Pie chart\n",
                "ax3.pie(hours, labels=activities, autopct='%1.1f%%')\n",
                "ax3.set_title('Daily Activities')\n",
                "\n",
                "# 4. Scatter plot\n",
                "ax4.scatter(heights, weights, alpha=0.6, c='purple')\n",
                "ax4.set_title('Height vs Weight')\n",
                "ax4.grid(True)\n",
                "\n",
                "# Adjust layout\n",
                "plt.tight_layout()\n",
                "\n",
                "# Add a main title\n",
                "fig.suptitle('Data Visualization Examples', fontsize=16, y=1.02)\n",
                "\n",
                "plt.show()"
            ]
        },
        {
            "cell_type": "markdown",
            "metadata": {},
            "source": [
                "## Try It Yourself!\n",
                "\n",
                "Now it's your turn to create visualizations. Here are some ideas:\n",
                "\n",
                "1. Track your daily steps for a week and create a line chart\n",
                "2. Make a bar chart of your favorite foods and their calories\n",
                "3. Create a pie chart of your monthly expenses\n",
                "4. Plot your study time vs. test scores in a scatter plot\n",
                "\n",
                "Remember:\n",
                "- Start simple\n",
                "- Label everything clearly\n",
                "- Use colors wisely\n",
                "- Tell a story with your data"
            ]
        }
    ],
    "metadata": {
        "kernelspec": {
            "display_name": "Python 3",
            "language": "python",
            "name": "python3"
        },
        "language_info": {
            "codemirror_mode": {
                "name": "ipython",
                "version": 3
            },
            "file_extension": ".py",
            "mimetype": "text/x-python",
            "name": "python",
            "nbconvert_exporter": "python",
            "pygments_lexer": "ipython3",
            "version": "3.8.0"
        }
    },
    "nbformat": 4,
    "nbformat_minor": 4
}
